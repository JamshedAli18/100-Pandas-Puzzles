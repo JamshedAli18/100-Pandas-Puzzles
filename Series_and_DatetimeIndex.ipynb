{
  "nbformat": 4,
  "nbformat_minor": 0,
  "metadata": {
    "colab": {
      "provenance": []
    },
    "kernelspec": {
      "name": "python3",
      "display_name": "Python 3"
    },
    "language_info": {
      "name": "python"
    }
  },
  "cells": [
    {
      "cell_type": "code",
      "execution_count": 1,
      "metadata": {
        "id": "jOR4W4fpCHph"
      },
      "outputs": [],
      "source": [
        "import pandas as pd"
      ]
    },
    {
      "cell_type": "code",
      "source": [
        "# Puzzle 1: Create a Series from a list.\n",
        "s = pd.Series([1, 2, 3, 4, 5])\n",
        "print(s)\n",
        "\n"
      ],
      "metadata": {
        "colab": {
          "base_uri": "https://localhost:8080/"
        },
        "id": "58fO56-nCNkc",
        "outputId": "b2c2c8fa-c655-4cec-af80-4a08bdc97a3e"
      },
      "execution_count": 2,
      "outputs": [
        {
          "output_type": "stream",
          "name": "stdout",
          "text": [
            "0    1\n",
            "1    2\n",
            "2    3\n",
            "3    4\n",
            "4    5\n",
            "dtype: int64\n"
          ]
        }
      ]
    },
    {
      "cell_type": "code",
      "source": [
        "# Puzzle 2: Create a Series with a datetime index.\n",
        "dates = pd.date_range('20230101', periods=5)\n",
        "s_dates = pd.Series([1, 2, 3, 4, 5], index=dates)\n",
        "print(s_dates)\n",
        "\n"
      ],
      "metadata": {
        "colab": {
          "base_uri": "https://localhost:8080/"
        },
        "id": "TSk72ZtjCV_q",
        "outputId": "5629855f-4e4c-4c12-8e13-08fbae6838ad"
      },
      "execution_count": 3,
      "outputs": [
        {
          "output_type": "stream",
          "name": "stdout",
          "text": [
            "2023-01-01    1\n",
            "2023-01-02    2\n",
            "2023-01-03    3\n",
            "2023-01-04    4\n",
            "2023-01-05    5\n",
            "Freq: D, dtype: int64\n"
          ]
        }
      ]
    },
    {
      "cell_type": "code",
      "source": [
        "# Create initial DataFrame with a datetime column\n",
        "data = {'Name': ['Alice', 'Bob', 'Charlie'], 'Age': [25, 30, 35], 'Birthdate': ['1995-05-01', '1990-06-15', '1985-07-20']}\n",
        "df = pd.DataFrame(data)\n",
        "\n",
        "# Puzzle 3: Convert a column to a datetime type.\n",
        "df['Birthdate'] = pd.to_datetime(df['Birthdate'])\n",
        "print(df)\n",
        "\n"
      ],
      "metadata": {
        "colab": {
          "base_uri": "https://localhost:8080/"
        },
        "id": "qGNxfLt1CYF7",
        "outputId": "5e0f00f7-53ea-43d6-dee4-a23b4309c4ce"
      },
      "execution_count": 4,
      "outputs": [
        {
          "output_type": "stream",
          "name": "stdout",
          "text": [
            "      Name  Age  Birthdate\n",
            "0    Alice   25 1995-05-01\n",
            "1      Bob   30 1990-06-15\n",
            "2  Charlie   35 1985-07-20\n"
          ]
        }
      ]
    },
    {
      "cell_type": "code",
      "source": [
        "# Puzzle 4: Set a datetime column as the index.\n",
        "df = df.set_index('Birthdate')\n",
        "print(df)\n"
      ],
      "metadata": {
        "colab": {
          "base_uri": "https://localhost:8080/"
        },
        "id": "xVbwYFVNCanz",
        "outputId": "3dbe94bf-68d3-4a70-816b-31bc391bc11a"
      },
      "execution_count": 5,
      "outputs": [
        {
          "output_type": "stream",
          "name": "stdout",
          "text": [
            "               Name  Age\n",
            "Birthdate               \n",
            "1995-05-01    Alice   25\n",
            "1990-06-15      Bob   30\n",
            "1985-07-20  Charlie   35\n"
          ]
        }
      ]
    },
    {
      "cell_type": "code",
      "source": [
        "\n",
        "# Puzzle 5: Resample a time series to a different frequency.\n",
        "df_resampled = df.resample('M').sum()\n",
        "print(df_resampled)\n",
        "\n"
      ],
      "metadata": {
        "colab": {
          "base_uri": "https://localhost:8080/"
        },
        "id": "DXgrSTeMCcVY",
        "outputId": "799d78b0-4b5c-481e-84a1-a8f6fa470e24"
      },
      "execution_count": 6,
      "outputs": [
        {
          "output_type": "stream",
          "name": "stdout",
          "text": [
            "               Name  Age\n",
            "Birthdate               \n",
            "1985-07-31  Charlie   35\n",
            "1985-08-31        0    0\n",
            "1985-09-30        0    0\n",
            "1985-10-31        0    0\n",
            "1985-11-30        0    0\n",
            "...             ...  ...\n",
            "1995-01-31        0    0\n",
            "1995-02-28        0    0\n",
            "1995-03-31        0    0\n",
            "1995-04-30        0    0\n",
            "1995-05-31    Alice   25\n",
            "\n",
            "[119 rows x 2 columns]\n"
          ]
        }
      ]
    },
    {
      "cell_type": "code",
      "source": [
        "# Puzzle 6: Calculate the difference between consecutive rows in a time series.\n",
        "df['Difference'] = df['Age'].diff()\n",
        "print(df)\n",
        "\n"
      ],
      "metadata": {
        "colab": {
          "base_uri": "https://localhost:8080/"
        },
        "id": "XYxlEQcxCdYi",
        "outputId": "d493b46c-6560-4480-d251-a448857db745"
      },
      "execution_count": 7,
      "outputs": [
        {
          "output_type": "stream",
          "name": "stdout",
          "text": [
            "               Name  Age  Difference\n",
            "Birthdate                           \n",
            "1995-05-01    Alice   25         NaN\n",
            "1990-06-15      Bob   30         5.0\n",
            "1985-07-20  Charlie   35         5.0\n"
          ]
        }
      ]
    },
    {
      "cell_type": "code",
      "source": [
        "# Puzzle 7: Find the rolling sum of a time series.\n",
        "df['Rolling_Sum'] = df['Age'].rolling(window=2).sum()\n",
        "print(df)\n",
        "\n"
      ],
      "metadata": {
        "colab": {
          "base_uri": "https://localhost:8080/"
        },
        "id": "Y6V0hM-NCe0j",
        "outputId": "d43e6c81-abaa-45e6-e399-399f903aaae9"
      },
      "execution_count": 8,
      "outputs": [
        {
          "output_type": "stream",
          "name": "stdout",
          "text": [
            "               Name  Age  Difference  Rolling_Sum\n",
            "Birthdate                                        \n",
            "1995-05-01    Alice   25         NaN          NaN\n",
            "1990-06-15      Bob   30         5.0         55.0\n",
            "1985-07-20  Charlie   35         5.0         65.0\n"
          ]
        }
      ]
    },
    {
      "cell_type": "code",
      "source": [
        "# Puzzle 8: Group a time series by month and calculate the mean.\n",
        "df_grouped = df.groupby(df.index.month)\n",
        "print(df_grouped)\n",
        "\n"
      ],
      "metadata": {
        "colab": {
          "base_uri": "https://localhost:8080/"
        },
        "id": "S-yHTiqnCf5R",
        "outputId": "c3cce98b-7795-499e-9aa2-85e0fadb0b59"
      },
      "execution_count": 10,
      "outputs": [
        {
          "output_type": "stream",
          "name": "stdout",
          "text": [
            "<pandas.core.groupby.generic.DataFrameGroupBy object at 0x78338658b370>\n"
          ]
        }
      ]
    },
    {
      "cell_type": "code",
      "source": [
        "# Puzzle 9: Create a time series plot.\n",
        "import matplotlib.pyplot as plt\n",
        "df['Age'].plot()\n"
      ],
      "metadata": {
        "colab": {
          "base_uri": "https://localhost:8080/",
          "height": 439
        },
        "id": "-bsahK0PChU_",
        "outputId": "decce22d-02de-4b8d-bf07-ccb294738488"
      },
      "execution_count": 11,
      "outputs": [
        {
          "output_type": "execute_result",
          "data": {
            "text/plain": [
              "<Axes: xlabel='Birthdate'>"
            ]
          },
          "metadata": {},
          "execution_count": 11
        },
        {
          "output_type": "display_data",
          "data": {
            "text/plain": [
              "<Figure size 640x480 with 1 Axes>"
            ],
            "image/png": "[encoded data removed]"
          },
          "metadata": {}
        }
      ]
    },
    {
      "cell_type": "code",
      "source": [],
      "metadata": {
        "id": "l_G2MT2jCvD_"
      },
      "execution_count": null,
      "outputs": []
    }
  ]
}