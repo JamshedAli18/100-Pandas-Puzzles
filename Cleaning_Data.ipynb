{
  "nbformat": 4,
  "nbformat_minor": 0,
  "metadata": {
    "colab": {
      "provenance": []
    },
    "kernelspec": {
      "name": "python3",
      "display_name": "Python 3"
    },
    "language_info": {
      "name": "python"
    }
  },
  "cells": [
    {
      "cell_type": "code",
      "execution_count": 1,
      "metadata": {
        "id": "zr7wWDZCC1IL"
      },
      "outputs": [],
      "source": [
        "import pandas as pd"
      ]
    },
    {
      "cell_type": "code",
      "source": [
        "# Create initial DataFrame with missing values\n",
        "data = {'Name': ['Alice', 'Bob', 'Charlie'], 'Age': [25, 30, None], 'City': ['New York', 'Los Angeles', None]}\n",
        "df = pd.DataFrame(data)\n",
        "\n",
        "# Puzzle 1: Identify missing values in a DataFrame.\n",
        "missing_values = df.isnull()\n",
        "print(missing_values)\n",
        "\n",
        "\n"
      ],
      "metadata": {
        "colab": {
          "base_uri": "https://localhost:8080/"
        },
        "id": "ygB0GF4CC43F",
        "outputId": "5fa5ebf6-b30f-4bbd-da6d-18e4ae4ae71c"
      },
      "execution_count": 2,
      "outputs": [
        {
          "output_type": "stream",
          "name": "stdout",
          "text": [
            "    Name    Age   City\n",
            "0  False  False  False\n",
            "1  False  False  False\n",
            "2  False   True   True\n"
          ]
        }
      ]
    },
    {
      "cell_type": "code",
      "source": [
        "# Puzzle 2: Remove rows with missing values.\n",
        "df_dropped = df.dropna()\n",
        "print(df_dropped)\n",
        "\n"
      ],
      "metadata": {
        "colab": {
          "base_uri": "https://localhost:8080/"
        },
        "id": "gJds9lQ0C_od",
        "outputId": "20de50ee-0e5a-4f3b-e24d-3db4f12899bd"
      },
      "execution_count": 3,
      "outputs": [
        {
          "output_type": "stream",
          "name": "stdout",
          "text": [
            "    Name   Age         City\n",
            "0  Alice  25.0     New York\n",
            "1    Bob  30.0  Los Angeles\n"
          ]
        }
      ]
    },
    {
      "cell_type": "code",
      "source": [
        "# Puzzle 3: Fill missing values with a specified value.\n",
        "df_filled = df.fillna(0)\n",
        "print(df_filled)\n",
        "\n"
      ],
      "metadata": {
        "colab": {
          "base_uri": "https://localhost:8080/"
        },
        "id": "hRBnUTg5DBd-",
        "outputId": "751ce408-25ec-4a14-c931-7208973fceb6"
      },
      "execution_count": 4,
      "outputs": [
        {
          "output_type": "stream",
          "name": "stdout",
          "text": [
            "      Name   Age         City\n",
            "0    Alice  25.0     New York\n",
            "1      Bob  30.0  Los Angeles\n",
            "2  Charlie   0.0            0\n"
          ]
        }
      ]
    },
    {
      "cell_type": "code",
      "source": [
        "# Puzzle 4: Fill missing values using forward fill.\n",
        "df_ffill = df.fillna(method='ffill')\n",
        "print(df_ffill)\n"
      ],
      "metadata": {
        "colab": {
          "base_uri": "https://localhost:8080/"
        },
        "id": "514ujRmuDDJ6",
        "outputId": "2fba7b31-76c7-492f-c7d6-178d487aa8dc"
      },
      "execution_count": 5,
      "outputs": [
        {
          "output_type": "stream",
          "name": "stdout",
          "text": [
            "      Name   Age         City\n",
            "0    Alice  25.0     New York\n",
            "1      Bob  30.0  Los Angeles\n",
            "2  Charlie  30.0  Los Angeles\n"
          ]
        }
      ]
    },
    {
      "cell_type": "code",
      "source": [
        "\n",
        "# Puzzle 5: Drop duplicate rows from a DataFrame.\n",
        "df_no_duplicates = df.drop_duplicates()\n",
        "print(df_no_duplicates)\n",
        "\n"
      ],
      "metadata": {
        "colab": {
          "base_uri": "https://localhost:8080/"
        },
        "id": "5uVdJsNYDEpN",
        "outputId": "3e9817a0-340d-4921-deb5-28f597092367"
      },
      "execution_count": 6,
      "outputs": [
        {
          "output_type": "stream",
          "name": "stdout",
          "text": [
            "      Name   Age         City\n",
            "0    Alice  25.0     New York\n",
            "1      Bob  30.0  Los Angeles\n",
            "2  Charlie   NaN         None\n"
          ]
        }
      ]
    },
    {
      "cell_type": "code",
      "source": [
        "# Create initial DataFrame with a column to convert\n",
        "data = {'Name': ['Alice', 'Bob', 'Charlie'], 'Category': ['A', 'B', 'A']}\n",
        "df = pd.DataFrame(data)\n",
        "\n"
      ],
      "metadata": {
        "id": "qrGnXQjmDF1J"
      },
      "execution_count": 7,
      "outputs": []
    },
    {
      "cell_type": "code",
      "source": [
        "# Puzzle 6: Convert a column to a categorical type.\n",
        "df['Category'] = df['Category'].astype('category')\n",
        "print(df)\n",
        "\n"
      ],
      "metadata": {
        "colab": {
          "base_uri": "https://localhost:8080/"
        },
        "id": "103noBNrDHGZ",
        "outputId": "2b4354c2-ae46-4c40-d45f-6833b7b63378"
      },
      "execution_count": 8,
      "outputs": [
        {
          "output_type": "stream",
          "name": "stdout",
          "text": [
            "      Name Category\n",
            "0    Alice        A\n",
            "1      Bob        B\n",
            "2  Charlie        A\n"
          ]
        }
      ]
    },
    {
      "cell_type": "code",
      "source": [
        "# Puzzle 7: Replace values in a column based on a condition.\n",
        "df_ffill['Age'] = df_ffill['Age'].replace(25, 26)\n",
        "print(df_ffill)\n",
        "\n"
      ],
      "metadata": {
        "colab": {
          "base_uri": "https://localhost:8080/"
        },
        "id": "-CH_ZuqFDIZh",
        "outputId": "9988575c-45b6-4c32-a770-ac137d746f16"
      },
      "execution_count": 11,
      "outputs": [
        {
          "output_type": "stream",
          "name": "stdout",
          "text": [
            "      Name   Age         City\n",
            "0    Alice  26.0     New York\n",
            "1      Bob  30.0  Los Angeles\n",
            "2  Charlie  30.0  Los Angeles\n"
          ]
        }
      ]
    },
    {
      "cell_type": "code",
      "source": [
        "\n"
      ],
      "metadata": {
        "id": "AvSCalPADK-u"
      },
      "execution_count": 12,
      "outputs": []
    },
    {
      "cell_type": "code",
      "source": [],
      "metadata": {
        "id": "HBsp5cPWDZga"
      },
      "execution_count": null,
      "outputs": []
    }
  ]
}